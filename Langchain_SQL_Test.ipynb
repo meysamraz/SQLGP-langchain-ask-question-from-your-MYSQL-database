{
  "nbformat": 4,
  "nbformat_minor": 0,
  "metadata": {
    "colab": {
      "provenance": []
    },
    "kernelspec": {
      "name": "python3",
      "display_name": "Python 3"
    },
    "language_info": {
      "name": "python"
    }
  },
  "cells": [
    {
      "cell_type": "code",
      "source": [
        "# Install requirements\n",
        "\n",
        "!pip install -r requirements.txt"
      ],
      "metadata": {
        "id": "qzfhvC8rqUf9"
      },
      "execution_count": 8,
      "outputs": []
    },
    {
      "cell_type": "code",
      "source": [
        "from langchain.utilities import SQLDatabase\n",
        "from langchain_experimental.sql import SQLDatabaseChain\n",
        "from langchain.llms import GooglePalm"
      ],
      "metadata": {
        "id": "e7KAQKeEJf4x"
      },
      "execution_count": null,
      "outputs": []
    },
    {
      "cell_type": "code",
      "source": [
        "api_key = 'API_KEY' # get this api key from https://makersuite.google.com/\n",
        "\n",
        "llm = GooglePalm(google_api_key=api_key, temperature=0.1)"
      ],
      "metadata": {
        "id": "ZGOpZiCsIpmP"
      },
      "execution_count": 71,
      "outputs": []
    },
    {
      "cell_type": "code",
      "source": [
        "llm(\"Write a me a poem about Pizza\")"
      ],
      "metadata": {
        "colab": {
          "base_uri": "https://localhost:8080/",
          "height": 90
        },
        "id": "S6LJXRTeqZRb",
        "outputId": "74ffd879-5b13-4b3c-9aa5-d1b32aec13c6"
      },
      "execution_count": 76,
      "outputs": [
        {
          "output_type": "execute_result",
          "data": {
            "text/plain": [
              "\"Pizza, pizza, oh so tasty,\\nWith a crispy crust and gooey cheese.\\nI love the way it smells,\\nAnd the way it tastes,\\nEspecially when it's fresh from the oven.\\n\\nI like to eat pizza with my friends,\\nWe gather around the table and share a pie.\\nWe talk and laugh and eat,\\nAnd it's a great time.\\n\\nPizza is the perfect food for any occasion,\\nWhether you're having a party or just a casual night in.\\nIt's always a good choice,\\nAnd it never disappoints.\\n\\nSo next time you're hungry,\\nDon't forget about pizza.\\nIt's the perfect food to satisfy your craving.\\n\\nPizza, pizza, oh so delicious,\\nThe best food in the world,\\nI love you so!\""
            ],
            "application/vnd.google.colaboratory.intrinsic+json": {
              "type": "string"
            }
          },
          "metadata": {},
          "execution_count": 76
        }
      ]
    },
    {
      "cell_type": "code",
      "source": [
        "poem = llm(\"Write a sql code get AVG values in a table \")\n",
        "print(poem)"
      ],
      "metadata": {
        "colab": {
          "base_uri": "https://localhost:8080/"
        },
        "id": "V5n1AfLqNqLi",
        "outputId": "3082490e-3ed2-4e4d-dfce-95c574aa53a1"
      },
      "execution_count": 77,
      "outputs": [
        {
          "output_type": "stream",
          "name": "stdout",
          "text": [
            "```sql\n",
            "SELECT AVG(column_name)\n",
            "FROM table_name;\n",
            "```\n"
          ]
        }
      ]
    },
    {
      "cell_type": "markdown",
      "source": [
        "## Connect Langchain to MySQL DB\n",
        "\n"
      ],
      "metadata": {
        "id": "_pvNqGazJ4d9"
      }
    },
    {
      "cell_type": "code",
      "source": [
        "db_user = \"DB_NAME\"\n",
        "db_password = \"DB_PASSWORD\"\n",
        "db_host = \"DB_HOST\"\n",
        "db_name = \"DB_NAME\"\n",
        "db_port = \"DB_PORT\"\n",
        "\n",
        "\n",
        "db = SQLDatabase.from_uri(f\"mysql://{db_user}:{db_password}@{db_host}:{db_port}/{db_name}\")"
      ],
      "metadata": {
        "id": "jfGmVyuN1PwH"
      },
      "execution_count": 14,
      "outputs": []
    },
    {
      "cell_type": "markdown",
      "source": [
        "## Testing"
      ],
      "metadata": {
        "id": "ktYsDNRnKGK7"
      }
    },
    {
      "cell_type": "code",
      "source": [
        "db_chain = SQLDatabaseChain.from_llm(llm, db, verbose=True)\n",
        "qns1 = db_chain(\"Give me average sales_qty\")\n"
      ],
      "metadata": {
        "colab": {
          "base_uri": "https://localhost:8080/"
        },
        "id": "fS_jG8XN4dcC",
        "outputId": "ff3b8b3e-6a0d-4fc1-b46a-f7d17a4d3c57"
      },
      "execution_count": 16,
      "outputs": [
        {
          "output_type": "stream",
          "name": "stdout",
          "text": [
            "\n",
            "\n",
            "\u001b[1m> Entering new SQLDatabaseChain chain...\u001b[0m\n",
            "Give me average sales_qty\n",
            "SQLQuery:\u001b[32;1m\u001b[1;3mSELECT AVG(sales_qty) FROM transactions\u001b[0m\n",
            "SQLResult: \u001b[33;1m\u001b[1;3m[(Decimal('10.3540'),)]\u001b[0m\n",
            "Answer:\u001b[32;1m\u001b[1;3m10.3540\u001b[0m\n",
            "\u001b[1m> Finished chain.\u001b[0m\n"
          ]
        }
      ]
    },
    {
      "cell_type": "code",
      "source": [
        "qns2 = db_chain(\"Whats the best selling product based on sales_qty and sales_amount\")"
      ],
      "metadata": {
        "colab": {
          "base_uri": "https://localhost:8080/"
        },
        "id": "_fca-Gq7MQGq",
        "outputId": "92022e7e-5db7-4c10-da75-57ee7144772f"
      },
      "execution_count": 17,
      "outputs": [
        {
          "output_type": "stream",
          "name": "stdout",
          "text": [
            "\n",
            "\n",
            "\u001b[1m> Entering new SQLDatabaseChain chain...\u001b[0m\n",
            "Whats the best selling product based on sales_qty and sales_amount\n",
            "SQLQuery:\u001b[32;1m\u001b[1;3mSELECT product_code, SUM(sales_qty) AS total_sales_qty, SUM(sales_amount) AS total_sales_amount FROM transactions GROUP BY product_code ORDER BY total_sales_qty DESC, total_sales_amount DESC LIMIT 1\u001b[0m\n",
            "SQLResult: \u001b[33;1m\u001b[1;3m[(\"'Prod018'\", Decimal('2806'), 6361669.0)]\u001b[0m\n",
            "Answer:\u001b[32;1m\u001b[1;3mProd018\u001b[0m\n",
            "\u001b[1m> Finished chain.\u001b[0m\n"
          ]
        }
      ]
    },
    {
      "cell_type": "code",
      "source": [
        "qns3 = db_chain(\"Whats the Number of rows in each table\")"
      ],
      "metadata": {
        "colab": {
          "base_uri": "https://localhost:8080/"
        },
        "id": "aa_0RMADNp3_",
        "outputId": "1f4e5170-f30d-4e13-d37e-2f87fb9b0f2c"
      },
      "execution_count": 18,
      "outputs": [
        {
          "output_type": "stream",
          "name": "stdout",
          "text": [
            "\n",
            "\n",
            "\u001b[1m> Entering new SQLDatabaseChain chain...\u001b[0m\n",
            "Whats the Number of rows in each table\n",
            "SQLQuery:\u001b[32;1m\u001b[1;3mSELECT count(*) FROM customers;\n",
            "SELECT count(*) FROM date;\n",
            "SELECT count(*) FROM markets;\n",
            "SELECT count(*) FROM products;\n",
            "SELECT count(*) FROM transactions;\u001b[0m\n",
            "SQLResult: \u001b[33;1m\u001b[1;3m[(38,)]\u001b[0m\n",
            "Answer:\u001b[32;1m\u001b[1;3m38\u001b[0m\n",
            "\u001b[1m> Finished chain.\u001b[0m\n"
          ]
        }
      ]
    },
    {
      "cell_type": "code",
      "source": [
        "qns4 = db_chain(\"Total sales amount and total sales quantity\")"
      ],
      "metadata": {
        "colab": {
          "base_uri": "https://localhost:8080/"
        },
        "id": "NS8g3b6xPQVo",
        "outputId": "0ab7b4fa-6e62-4ccc-d353-3601086d129a"
      },
      "execution_count": 19,
      "outputs": [
        {
          "output_type": "stream",
          "name": "stdout",
          "text": [
            "\n",
            "\n",
            "\u001b[1m> Entering new SQLDatabaseChain chain...\u001b[0m\n",
            "Total sales amount and total sales quantity\n",
            "SQLQuery:\u001b[32;1m\u001b[1;3mSELECT SUM(sales_amount), SUM(sales_qty) FROM transactions\u001b[0m\n",
            "SQLResult: \u001b[33;1m\u001b[1;3m[(12882083.0, Decimal('10354'))]\u001b[0m\n",
            "Answer:\u001b[32;1m\u001b[1;3m(12882083.0, 10354)\u001b[0m\n",
            "\u001b[1m> Finished chain.\u001b[0m\n"
          ]
        }
      ]
    },
    {
      "cell_type": "code",
      "source": [
        "qns5 = db_chain(\"Number of rows in each table\")"
      ],
      "metadata": {
        "id": "-_u_ekTQQrtn",
        "colab": {
          "base_uri": "https://localhost:8080/"
        },
        "outputId": "3251b30d-9e77-4d79-ec3f-d750065e1c90"
      },
      "execution_count": 20,
      "outputs": [
        {
          "output_type": "stream",
          "name": "stdout",
          "text": [
            "\n",
            "\n",
            "\u001b[1m> Entering new SQLDatabaseChain chain...\u001b[0m\n",
            "Number of rows in each table\n",
            "SQLQuery:\u001b[32;1m\u001b[1;3mSELECT count(*) FROM customers;\n",
            "SELECT count(*) FROM date;\n",
            "SELECT count(*) FROM markets;\n",
            "SELECT count(*) FROM products;\n",
            "SELECT count(*) FROM transactions;\u001b[0m\n",
            "SQLResult: \u001b[33;1m\u001b[1;3m[(38,)]\u001b[0m\n",
            "Answer:\u001b[32;1m\u001b[1;3m38\u001b[0m\n",
            "\u001b[1m> Finished chain.\u001b[0m\n"
          ]
        }
      ]
    }
  ]
}